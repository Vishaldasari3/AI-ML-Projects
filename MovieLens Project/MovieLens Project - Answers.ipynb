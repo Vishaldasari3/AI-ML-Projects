{
 "cells": [
  {
   "cell_type": "markdown",
   "metadata": {},
   "source": [
    "### `Project - MovieLens Data Analysis`\n",
    "\n",
    "The GroupLens Research Project is a research group in the Department of Computer Science and Engineering at the University of Minnesota. The data is widely used for collaborative filtering and other filtering solutions. However, we will be using this data to act as a means to demonstrate our skill in using Python to “play” with data.\n",
    "\n",
    "### `Objective:`\n",
    "- To implement the techniques learnt as a part of the course.\n",
    "\n",
    "### `Datasets Information:`\n",
    "\n",
    "*rating.csv:* It contains information on ratings given by the users to a particular movie.\n",
    "- user id: id assigned to every user\n",
    "- movie id: id assigned to every movie\n",
    "- rating: rating given by the user\n",
    "- timestamp: Time recorded when the user gave a rating\n",
    "\n",
    "*movie.csv:* File contains information related to the movies and their genre.\n",
    "- movie id: id assigned to every movie\n",
    "- movie title: Title of the movie\n",
    "- release date: Date of release of the movie\n",
    "- Action: Genre containing binary values (1 - for action 0 - not action)\n",
    "- Adventure: Genre containing binary values (1 - for adventure 0 - not adventure)\n",
    "- Animation: Genre containing binary values (1 - for animation 0 - not animation)\n",
    "- Children’s: Genre containing binary values (1 - for children's 0 - not children's)\n",
    "- Comedy: Genre containing binary values (1 - for comedy 0 - not comedy)\n",
    "- Crime: Genre containing binary values (1 - for crime 0 - not crime)\n",
    "- Documentary: Genre containing binary values (1 - for documentary 0 - not documentary)\n",
    "- Drama: Genre containing binary values (1 - for drama 0 - not drama)\n",
    "- Fantasy: Genre containing binary values (1 - for fantasy 0 - not fantasy)\n",
    "- Film-Noir: Genre containing binary values (1 - for film-noir 0 - not film-noir)\n",
    "- Horror: Genre containing binary values (1 - for horror 0 - not horror)\n",
    "- Musical: Genre containing binary values (1 - for musical 0 - not musical)\n",
    "- Mystery: Genre containing binary values (1 - for mystery 0 - not mystery)\n",
    "- Romance: Genre containing binary values (1 - for romance 0 - not romance)\n",
    "- Sci-Fi: Genre containing binary values (1 - for sci-fi 0 - not sci-fi)\n",
    "- Thriller: Genre containing binary values (1 - for thriller 0 - not thriller)\n",
    "- War: Genre containing binary values (1 - for war 0 - not war)\n",
    "- Western: Genre containing binary values (1 - for western - not western)\n",
    "\n",
    "\n",
    "*user.csv:* It contains information of the users who have rated the movies.\n",
    "- user id: id assigned to every user\n",
    "- age: Age of the user\n",
    "- gender: Gender of the user\n",
    "- occupation: Occupation of the user\n",
    "- zip code: Zip code of the use\n",
    "\n",
    "**`Please provide your insights wherever necessary.`**\n",
    "\n",
    "### `Learning Outcomes:`\n",
    "- Exploratory Data Analysis\n",
    "\n",
    "- Visualization using Python\n",
    "\n",
    "- Pandas – groupby, merging \n",
    "\n",
    "\n",
    "### `Domain` \n",
    "- Internet and Entertainment\n",
    "\n",
    "**Note that the project will need you to apply the concepts of groupby and merging extensively.**"
   ]
  },
  {
   "cell_type": "markdown",
   "metadata": {},
   "source": [
    "### 1. Import the necessary packages - 2.5 marks"
   ]
  },
  {
   "cell_type": "code",
   "execution_count": 99,
   "metadata": {},
   "outputs": [],
   "source": [
    "import pandas as pd\n",
    "import numpy as np\n",
    "import matplotlib.pyplot as plt\n",
    "%matplotlib inline\n",
    "import seaborn as sns\n",
    "from IPython.core.interactiveshell import InteractiveShell\n",
    "InteractiveShell.ast_node_interactivity='all'"
   ]
  },
  {
   "cell_type": "markdown",
   "metadata": {},
   "source": [
    "### 2. Read the 3 datasets into dataframes - 2.5 marks"
   ]
  },
  {
   "cell_type": "code",
   "execution_count": 100,
   "metadata": {
    "scrolled": true
   },
   "outputs": [],
   "source": [
    "mve_rating=pd.read_csv('Data.csv')\n",
    "mve_detail=pd.read_csv('item.csv')\n",
    "usr_detail=pd.read_csv('user.csv')"
   ]
  },
  {
   "cell_type": "markdown",
   "metadata": {},
   "source": [
    "### 3. Apply info, shape, describe, and find the number of missing values in the data. Present at least 3 observations from these operations - 2.5 marks\n",
    " - Note that you will need to do it for all the three datasets seperately"
   ]
  },
  {
   "cell_type": "code",
   "execution_count": 116,
   "metadata": {},
   "outputs": [
    {
     "name": "stdout",
     "output_type": "stream",
     "text": [
      "This is Movie Rating data\n",
      "-------------------------\n"
     ]
    },
    {
     "data": {
      "text/html": [
       "<div>\n",
       "<style scoped>\n",
       "    .dataframe tbody tr th:only-of-type {\n",
       "        vertical-align: middle;\n",
       "    }\n",
       "\n",
       "    .dataframe tbody tr th {\n",
       "        vertical-align: top;\n",
       "    }\n",
       "\n",
       "    .dataframe thead th {\n",
       "        text-align: right;\n",
       "    }\n",
       "</style>\n",
       "<table border=\"1\" class=\"dataframe\">\n",
       "  <thead>\n",
       "    <tr style=\"text-align: right;\">\n",
       "      <th></th>\n",
       "      <th>user id</th>\n",
       "      <th>movie id</th>\n",
       "      <th>rating</th>\n",
       "      <th>timestamp</th>\n",
       "    </tr>\n",
       "  </thead>\n",
       "  <tbody>\n",
       "    <tr>\n",
       "      <th>0</th>\n",
       "      <td>196</td>\n",
       "      <td>242</td>\n",
       "      <td>3</td>\n",
       "      <td>881250949</td>\n",
       "    </tr>\n",
       "    <tr>\n",
       "      <th>1</th>\n",
       "      <td>186</td>\n",
       "      <td>302</td>\n",
       "      <td>3</td>\n",
       "      <td>891717742</td>\n",
       "    </tr>\n",
       "    <tr>\n",
       "      <th>2</th>\n",
       "      <td>22</td>\n",
       "      <td>377</td>\n",
       "      <td>1</td>\n",
       "      <td>878887116</td>\n",
       "    </tr>\n",
       "    <tr>\n",
       "      <th>3</th>\n",
       "      <td>244</td>\n",
       "      <td>51</td>\n",
       "      <td>2</td>\n",
       "      <td>880606923</td>\n",
       "    </tr>\n",
       "    <tr>\n",
       "      <th>4</th>\n",
       "      <td>166</td>\n",
       "      <td>346</td>\n",
       "      <td>1</td>\n",
       "      <td>886397596</td>\n",
       "    </tr>\n",
       "  </tbody>\n",
       "</table>\n",
       "</div>"
      ],
      "text/plain": [
       "   user id  movie id  rating  timestamp\n",
       "0      196       242       3  881250949\n",
       "1      186       302       3  891717742\n",
       "2       22       377       1  878887116\n",
       "3      244        51       2  880606923\n",
       "4      166       346       1  886397596"
      ]
     },
     "execution_count": 116,
     "metadata": {},
     "output_type": "execute_result"
    },
    {
     "name": "stdout",
     "output_type": "stream",
     "text": [
      "<class 'pandas.core.frame.DataFrame'>\n",
      "RangeIndex: 100000 entries, 0 to 99999\n",
      "Data columns (total 4 columns):\n",
      " #   Column     Non-Null Count   Dtype\n",
      "---  ------     --------------   -----\n",
      " 0   user id    100000 non-null  int64\n",
      " 1   movie id   100000 non-null  int64\n",
      " 2   rating     100000 non-null  int64\n",
      " 3   timestamp  100000 non-null  int64\n",
      "dtypes: int64(4)\n",
      "memory usage: 3.1 MB\n",
      "The shape of this data is : (100000, 4)\n"
     ]
    },
    {
     "data": {
      "text/html": [
       "<div>\n",
       "<style scoped>\n",
       "    .dataframe tbody tr th:only-of-type {\n",
       "        vertical-align: middle;\n",
       "    }\n",
       "\n",
       "    .dataframe tbody tr th {\n",
       "        vertical-align: top;\n",
       "    }\n",
       "\n",
       "    .dataframe thead th {\n",
       "        text-align: right;\n",
       "    }\n",
       "</style>\n",
       "<table border=\"1\" class=\"dataframe\">\n",
       "  <thead>\n",
       "    <tr style=\"text-align: right;\">\n",
       "      <th></th>\n",
       "      <th>user id</th>\n",
       "      <th>movie id</th>\n",
       "      <th>rating</th>\n",
       "      <th>timestamp</th>\n",
       "    </tr>\n",
       "  </thead>\n",
       "  <tbody>\n",
       "    <tr>\n",
       "      <th>count</th>\n",
       "      <td>100000.00000</td>\n",
       "      <td>100000.000000</td>\n",
       "      <td>100000.000000</td>\n",
       "      <td>1.000000e+05</td>\n",
       "    </tr>\n",
       "    <tr>\n",
       "      <th>mean</th>\n",
       "      <td>462.48475</td>\n",
       "      <td>425.530130</td>\n",
       "      <td>3.529860</td>\n",
       "      <td>8.835289e+08</td>\n",
       "    </tr>\n",
       "    <tr>\n",
       "      <th>std</th>\n",
       "      <td>266.61442</td>\n",
       "      <td>330.798356</td>\n",
       "      <td>1.125674</td>\n",
       "      <td>5.343856e+06</td>\n",
       "    </tr>\n",
       "    <tr>\n",
       "      <th>min</th>\n",
       "      <td>1.00000</td>\n",
       "      <td>1.000000</td>\n",
       "      <td>1.000000</td>\n",
       "      <td>8.747247e+08</td>\n",
       "    </tr>\n",
       "    <tr>\n",
       "      <th>25%</th>\n",
       "      <td>254.00000</td>\n",
       "      <td>175.000000</td>\n",
       "      <td>3.000000</td>\n",
       "      <td>8.794487e+08</td>\n",
       "    </tr>\n",
       "    <tr>\n",
       "      <th>50%</th>\n",
       "      <td>447.00000</td>\n",
       "      <td>322.000000</td>\n",
       "      <td>4.000000</td>\n",
       "      <td>8.828269e+08</td>\n",
       "    </tr>\n",
       "    <tr>\n",
       "      <th>75%</th>\n",
       "      <td>682.00000</td>\n",
       "      <td>631.000000</td>\n",
       "      <td>4.000000</td>\n",
       "      <td>8.882600e+08</td>\n",
       "    </tr>\n",
       "    <tr>\n",
       "      <th>max</th>\n",
       "      <td>943.00000</td>\n",
       "      <td>1682.000000</td>\n",
       "      <td>5.000000</td>\n",
       "      <td>8.932866e+08</td>\n",
       "    </tr>\n",
       "  </tbody>\n",
       "</table>\n",
       "</div>"
      ],
      "text/plain": [
       "            user id       movie id         rating     timestamp\n",
       "count  100000.00000  100000.000000  100000.000000  1.000000e+05\n",
       "mean      462.48475     425.530130       3.529860  8.835289e+08\n",
       "std       266.61442     330.798356       1.125674  5.343856e+06\n",
       "min         1.00000       1.000000       1.000000  8.747247e+08\n",
       "25%       254.00000     175.000000       3.000000  8.794487e+08\n",
       "50%       447.00000     322.000000       4.000000  8.828269e+08\n",
       "75%       682.00000     631.000000       4.000000  8.882600e+08\n",
       "max       943.00000    1682.000000       5.000000  8.932866e+08"
      ]
     },
     "execution_count": 116,
     "metadata": {},
     "output_type": "execute_result"
    },
    {
     "data": {
      "text/plain": [
       "user id      False\n",
       "movie id     False\n",
       "rating       False\n",
       "timestamp    False\n",
       "dtype: bool"
      ]
     },
     "execution_count": 116,
     "metadata": {},
     "output_type": "execute_result"
    },
    {
     "name": "stdout",
     "output_type": "stream",
     "text": [
      "\n"
     ]
    }
   ],
   "source": [
    "print('This is Movie Rating data')\n",
    "print('-------------------------')\n",
    "mve_rating.head()\n",
    "mve_rating.info()\n",
    "print('The shape of this data is :',mve_rating.shape)\n",
    "mve_rating.describe()\n",
    "mve_rating.isnull().any()\n",
    "print()"
   ]
  },
  {
   "cell_type": "code",
   "execution_count": 117,
   "metadata": {},
   "outputs": [
    {
     "name": "stdout",
     "output_type": "stream",
     "text": [
      "This is Movie Detail data\n",
      "-------------------------\n"
     ]
    },
    {
     "data": {
      "text/html": [
       "<div>\n",
       "<style scoped>\n",
       "    .dataframe tbody tr th:only-of-type {\n",
       "        vertical-align: middle;\n",
       "    }\n",
       "\n",
       "    .dataframe tbody tr th {\n",
       "        vertical-align: top;\n",
       "    }\n",
       "\n",
       "    .dataframe thead th {\n",
       "        text-align: right;\n",
       "    }\n",
       "</style>\n",
       "<table border=\"1\" class=\"dataframe\">\n",
       "  <thead>\n",
       "    <tr style=\"text-align: right;\">\n",
       "      <th></th>\n",
       "      <th>movie id</th>\n",
       "      <th>movie title</th>\n",
       "      <th>release date</th>\n",
       "      <th>unknown</th>\n",
       "      <th>Action</th>\n",
       "      <th>Adventure</th>\n",
       "      <th>Animation</th>\n",
       "      <th>Childrens</th>\n",
       "      <th>Comedy</th>\n",
       "      <th>Crime</th>\n",
       "      <th>...</th>\n",
       "      <th>Film-Noir</th>\n",
       "      <th>Horror</th>\n",
       "      <th>Musical</th>\n",
       "      <th>Mystery</th>\n",
       "      <th>Romance</th>\n",
       "      <th>Sci-Fi</th>\n",
       "      <th>Thriller</th>\n",
       "      <th>War</th>\n",
       "      <th>Western</th>\n",
       "      <th>release year</th>\n",
       "    </tr>\n",
       "  </thead>\n",
       "  <tbody>\n",
       "    <tr>\n",
       "      <th>0</th>\n",
       "      <td>1</td>\n",
       "      <td>Toy Story</td>\n",
       "      <td>01-Jan-1995</td>\n",
       "      <td>0</td>\n",
       "      <td>0</td>\n",
       "      <td>0</td>\n",
       "      <td>1</td>\n",
       "      <td>1</td>\n",
       "      <td>1</td>\n",
       "      <td>0</td>\n",
       "      <td>...</td>\n",
       "      <td>0</td>\n",
       "      <td>0</td>\n",
       "      <td>0</td>\n",
       "      <td>0</td>\n",
       "      <td>0</td>\n",
       "      <td>0</td>\n",
       "      <td>0</td>\n",
       "      <td>0</td>\n",
       "      <td>0</td>\n",
       "      <td>1995</td>\n",
       "    </tr>\n",
       "    <tr>\n",
       "      <th>1</th>\n",
       "      <td>2</td>\n",
       "      <td>GoldenEye</td>\n",
       "      <td>01-Jan-1995</td>\n",
       "      <td>0</td>\n",
       "      <td>1</td>\n",
       "      <td>1</td>\n",
       "      <td>0</td>\n",
       "      <td>0</td>\n",
       "      <td>0</td>\n",
       "      <td>0</td>\n",
       "      <td>...</td>\n",
       "      <td>0</td>\n",
       "      <td>0</td>\n",
       "      <td>0</td>\n",
       "      <td>0</td>\n",
       "      <td>0</td>\n",
       "      <td>0</td>\n",
       "      <td>1</td>\n",
       "      <td>0</td>\n",
       "      <td>0</td>\n",
       "      <td>1995</td>\n",
       "    </tr>\n",
       "    <tr>\n",
       "      <th>2</th>\n",
       "      <td>3</td>\n",
       "      <td>Four Rooms</td>\n",
       "      <td>01-Jan-1995</td>\n",
       "      <td>0</td>\n",
       "      <td>0</td>\n",
       "      <td>0</td>\n",
       "      <td>0</td>\n",
       "      <td>0</td>\n",
       "      <td>0</td>\n",
       "      <td>0</td>\n",
       "      <td>...</td>\n",
       "      <td>0</td>\n",
       "      <td>0</td>\n",
       "      <td>0</td>\n",
       "      <td>0</td>\n",
       "      <td>0</td>\n",
       "      <td>0</td>\n",
       "      <td>1</td>\n",
       "      <td>0</td>\n",
       "      <td>0</td>\n",
       "      <td>1995</td>\n",
       "    </tr>\n",
       "    <tr>\n",
       "      <th>3</th>\n",
       "      <td>4</td>\n",
       "      <td>Get Shorty</td>\n",
       "      <td>01-Jan-1995</td>\n",
       "      <td>0</td>\n",
       "      <td>1</td>\n",
       "      <td>0</td>\n",
       "      <td>0</td>\n",
       "      <td>0</td>\n",
       "      <td>1</td>\n",
       "      <td>0</td>\n",
       "      <td>...</td>\n",
       "      <td>0</td>\n",
       "      <td>0</td>\n",
       "      <td>0</td>\n",
       "      <td>0</td>\n",
       "      <td>0</td>\n",
       "      <td>0</td>\n",
       "      <td>0</td>\n",
       "      <td>0</td>\n",
       "      <td>0</td>\n",
       "      <td>1995</td>\n",
       "    </tr>\n",
       "    <tr>\n",
       "      <th>4</th>\n",
       "      <td>5</td>\n",
       "      <td>Copycat</td>\n",
       "      <td>01-Jan-1995</td>\n",
       "      <td>0</td>\n",
       "      <td>0</td>\n",
       "      <td>0</td>\n",
       "      <td>0</td>\n",
       "      <td>0</td>\n",
       "      <td>0</td>\n",
       "      <td>1</td>\n",
       "      <td>...</td>\n",
       "      <td>0</td>\n",
       "      <td>0</td>\n",
       "      <td>0</td>\n",
       "      <td>0</td>\n",
       "      <td>0</td>\n",
       "      <td>0</td>\n",
       "      <td>1</td>\n",
       "      <td>0</td>\n",
       "      <td>0</td>\n",
       "      <td>1995</td>\n",
       "    </tr>\n",
       "  </tbody>\n",
       "</table>\n",
       "<p>5 rows × 23 columns</p>\n",
       "</div>"
      ],
      "text/plain": [
       "   movie id  movie title release date  unknown  Action  Adventure  Animation  \\\n",
       "0         1   Toy Story   01-Jan-1995        0       0          0          1   \n",
       "1         2   GoldenEye   01-Jan-1995        0       1          1          0   \n",
       "2         3  Four Rooms   01-Jan-1995        0       0          0          0   \n",
       "3         4  Get Shorty   01-Jan-1995        0       1          0          0   \n",
       "4         5     Copycat   01-Jan-1995        0       0          0          0   \n",
       "\n",
       "   Childrens  Comedy  Crime  ...  Film-Noir  Horror  Musical  Mystery  \\\n",
       "0          1       1      0  ...          0       0        0        0   \n",
       "1          0       0      0  ...          0       0        0        0   \n",
       "2          0       0      0  ...          0       0        0        0   \n",
       "3          0       1      0  ...          0       0        0        0   \n",
       "4          0       0      1  ...          0       0        0        0   \n",
       "\n",
       "   Romance  Sci-Fi  Thriller  War  Western  release year  \n",
       "0        0       0         0    0        0          1995  \n",
       "1        0       0         1    0        0          1995  \n",
       "2        0       0         1    0        0          1995  \n",
       "3        0       0         0    0        0          1995  \n",
       "4        0       0         1    0        0          1995  \n",
       "\n",
       "[5 rows x 23 columns]"
      ]
     },
     "execution_count": 117,
     "metadata": {},
     "output_type": "execute_result"
    },
    {
     "name": "stdout",
     "output_type": "stream",
     "text": [
      "<class 'pandas.core.frame.DataFrame'>\n",
      "RangeIndex: 1681 entries, 0 to 1680\n",
      "Data columns (total 23 columns):\n",
      " #   Column        Non-Null Count  Dtype \n",
      "---  ------        --------------  ----- \n",
      " 0   movie id      1681 non-null   int64 \n",
      " 1   movie title   1681 non-null   object\n",
      " 2   release date  1681 non-null   object\n",
      " 3   unknown       1681 non-null   int64 \n",
      " 4   Action        1681 non-null   int64 \n",
      " 5   Adventure     1681 non-null   int64 \n",
      " 6   Animation     1681 non-null   int64 \n",
      " 7   Childrens     1681 non-null   int64 \n",
      " 8   Comedy        1681 non-null   int64 \n",
      " 9   Crime         1681 non-null   int64 \n",
      " 10  Documentary   1681 non-null   int64 \n",
      " 11  Drama         1681 non-null   int64 \n",
      " 12  Fantasy       1681 non-null   int64 \n",
      " 13  Film-Noir     1681 non-null   int64 \n",
      " 14  Horror        1681 non-null   int64 \n",
      " 15  Musical       1681 non-null   int64 \n",
      " 16  Mystery       1681 non-null   int64 \n",
      " 17  Romance       1681 non-null   int64 \n",
      " 18  Sci-Fi        1681 non-null   int64 \n",
      " 19  Thriller      1681 non-null   int64 \n",
      " 20  War           1681 non-null   int64 \n",
      " 21  Western       1681 non-null   int64 \n",
      " 22  release year  1681 non-null   object\n",
      "dtypes: int64(20), object(3)\n",
      "memory usage: 302.2+ KB\n",
      "The shape of this data is : (1681, 23)\n"
     ]
    },
    {
     "data": {
      "text/html": [
       "<div>\n",
       "<style scoped>\n",
       "    .dataframe tbody tr th:only-of-type {\n",
       "        vertical-align: middle;\n",
       "    }\n",
       "\n",
       "    .dataframe tbody tr th {\n",
       "        vertical-align: top;\n",
       "    }\n",
       "\n",
       "    .dataframe thead th {\n",
       "        text-align: right;\n",
       "    }\n",
       "</style>\n",
       "<table border=\"1\" class=\"dataframe\">\n",
       "  <thead>\n",
       "    <tr style=\"text-align: right;\">\n",
       "      <th></th>\n",
       "      <th>movie id</th>\n",
       "      <th>unknown</th>\n",
       "      <th>Action</th>\n",
       "      <th>Adventure</th>\n",
       "      <th>Animation</th>\n",
       "      <th>Childrens</th>\n",
       "      <th>Comedy</th>\n",
       "      <th>Crime</th>\n",
       "      <th>Documentary</th>\n",
       "      <th>Drama</th>\n",
       "      <th>Fantasy</th>\n",
       "      <th>Film-Noir</th>\n",
       "      <th>Horror</th>\n",
       "      <th>Musical</th>\n",
       "      <th>Mystery</th>\n",
       "      <th>Romance</th>\n",
       "      <th>Sci-Fi</th>\n",
       "      <th>Thriller</th>\n",
       "      <th>War</th>\n",
       "      <th>Western</th>\n",
       "    </tr>\n",
       "  </thead>\n",
       "  <tbody>\n",
       "    <tr>\n",
       "      <th>count</th>\n",
       "      <td>1681.000000</td>\n",
       "      <td>1681.000000</td>\n",
       "      <td>1681.000000</td>\n",
       "      <td>1681.000000</td>\n",
       "      <td>1681.000000</td>\n",
       "      <td>1681.000000</td>\n",
       "      <td>1681.000000</td>\n",
       "      <td>1681.000000</td>\n",
       "      <td>1681.000000</td>\n",
       "      <td>1681.000000</td>\n",
       "      <td>1681.000000</td>\n",
       "      <td>1681.000000</td>\n",
       "      <td>1681.000000</td>\n",
       "      <td>1681.000000</td>\n",
       "      <td>1681.000000</td>\n",
       "      <td>1681.000000</td>\n",
       "      <td>1681.000000</td>\n",
       "      <td>1681.000000</td>\n",
       "      <td>1681.000000</td>\n",
       "      <td>1681.000000</td>\n",
       "    </tr>\n",
       "    <tr>\n",
       "      <th>mean</th>\n",
       "      <td>841.841761</td>\n",
       "      <td>0.000595</td>\n",
       "      <td>0.149316</td>\n",
       "      <td>0.080309</td>\n",
       "      <td>0.024985</td>\n",
       "      <td>0.072576</td>\n",
       "      <td>0.300416</td>\n",
       "      <td>0.064842</td>\n",
       "      <td>0.029744</td>\n",
       "      <td>0.431291</td>\n",
       "      <td>0.013087</td>\n",
       "      <td>0.014277</td>\n",
       "      <td>0.054729</td>\n",
       "      <td>0.033314</td>\n",
       "      <td>0.036288</td>\n",
       "      <td>0.146936</td>\n",
       "      <td>0.060083</td>\n",
       "      <td>0.149316</td>\n",
       "      <td>0.042237</td>\n",
       "      <td>0.016062</td>\n",
       "    </tr>\n",
       "    <tr>\n",
       "      <th>std</th>\n",
       "      <td>485.638077</td>\n",
       "      <td>0.024390</td>\n",
       "      <td>0.356506</td>\n",
       "      <td>0.271852</td>\n",
       "      <td>0.156126</td>\n",
       "      <td>0.259516</td>\n",
       "      <td>0.458576</td>\n",
       "      <td>0.246321</td>\n",
       "      <td>0.169931</td>\n",
       "      <td>0.495404</td>\n",
       "      <td>0.113683</td>\n",
       "      <td>0.118667</td>\n",
       "      <td>0.227519</td>\n",
       "      <td>0.179507</td>\n",
       "      <td>0.187061</td>\n",
       "      <td>0.354148</td>\n",
       "      <td>0.237712</td>\n",
       "      <td>0.356506</td>\n",
       "      <td>0.201189</td>\n",
       "      <td>0.125751</td>\n",
       "    </tr>\n",
       "    <tr>\n",
       "      <th>min</th>\n",
       "      <td>1.000000</td>\n",
       "      <td>0.000000</td>\n",
       "      <td>0.000000</td>\n",
       "      <td>0.000000</td>\n",
       "      <td>0.000000</td>\n",
       "      <td>0.000000</td>\n",
       "      <td>0.000000</td>\n",
       "      <td>0.000000</td>\n",
       "      <td>0.000000</td>\n",
       "      <td>0.000000</td>\n",
       "      <td>0.000000</td>\n",
       "      <td>0.000000</td>\n",
       "      <td>0.000000</td>\n",
       "      <td>0.000000</td>\n",
       "      <td>0.000000</td>\n",
       "      <td>0.000000</td>\n",
       "      <td>0.000000</td>\n",
       "      <td>0.000000</td>\n",
       "      <td>0.000000</td>\n",
       "      <td>0.000000</td>\n",
       "    </tr>\n",
       "    <tr>\n",
       "      <th>25%</th>\n",
       "      <td>422.000000</td>\n",
       "      <td>0.000000</td>\n",
       "      <td>0.000000</td>\n",
       "      <td>0.000000</td>\n",
       "      <td>0.000000</td>\n",
       "      <td>0.000000</td>\n",
       "      <td>0.000000</td>\n",
       "      <td>0.000000</td>\n",
       "      <td>0.000000</td>\n",
       "      <td>0.000000</td>\n",
       "      <td>0.000000</td>\n",
       "      <td>0.000000</td>\n",
       "      <td>0.000000</td>\n",
       "      <td>0.000000</td>\n",
       "      <td>0.000000</td>\n",
       "      <td>0.000000</td>\n",
       "      <td>0.000000</td>\n",
       "      <td>0.000000</td>\n",
       "      <td>0.000000</td>\n",
       "      <td>0.000000</td>\n",
       "    </tr>\n",
       "    <tr>\n",
       "      <th>50%</th>\n",
       "      <td>842.000000</td>\n",
       "      <td>0.000000</td>\n",
       "      <td>0.000000</td>\n",
       "      <td>0.000000</td>\n",
       "      <td>0.000000</td>\n",
       "      <td>0.000000</td>\n",
       "      <td>0.000000</td>\n",
       "      <td>0.000000</td>\n",
       "      <td>0.000000</td>\n",
       "      <td>0.000000</td>\n",
       "      <td>0.000000</td>\n",
       "      <td>0.000000</td>\n",
       "      <td>0.000000</td>\n",
       "      <td>0.000000</td>\n",
       "      <td>0.000000</td>\n",
       "      <td>0.000000</td>\n",
       "      <td>0.000000</td>\n",
       "      <td>0.000000</td>\n",
       "      <td>0.000000</td>\n",
       "      <td>0.000000</td>\n",
       "    </tr>\n",
       "    <tr>\n",
       "      <th>75%</th>\n",
       "      <td>1262.000000</td>\n",
       "      <td>0.000000</td>\n",
       "      <td>0.000000</td>\n",
       "      <td>0.000000</td>\n",
       "      <td>0.000000</td>\n",
       "      <td>0.000000</td>\n",
       "      <td>1.000000</td>\n",
       "      <td>0.000000</td>\n",
       "      <td>0.000000</td>\n",
       "      <td>1.000000</td>\n",
       "      <td>0.000000</td>\n",
       "      <td>0.000000</td>\n",
       "      <td>0.000000</td>\n",
       "      <td>0.000000</td>\n",
       "      <td>0.000000</td>\n",
       "      <td>0.000000</td>\n",
       "      <td>0.000000</td>\n",
       "      <td>0.000000</td>\n",
       "      <td>0.000000</td>\n",
       "      <td>0.000000</td>\n",
       "    </tr>\n",
       "    <tr>\n",
       "      <th>max</th>\n",
       "      <td>1682.000000</td>\n",
       "      <td>1.000000</td>\n",
       "      <td>1.000000</td>\n",
       "      <td>1.000000</td>\n",
       "      <td>1.000000</td>\n",
       "      <td>1.000000</td>\n",
       "      <td>1.000000</td>\n",
       "      <td>1.000000</td>\n",
       "      <td>1.000000</td>\n",
       "      <td>1.000000</td>\n",
       "      <td>1.000000</td>\n",
       "      <td>1.000000</td>\n",
       "      <td>1.000000</td>\n",
       "      <td>1.000000</td>\n",
       "      <td>1.000000</td>\n",
       "      <td>1.000000</td>\n",
       "      <td>1.000000</td>\n",
       "      <td>1.000000</td>\n",
       "      <td>1.000000</td>\n",
       "      <td>1.000000</td>\n",
       "    </tr>\n",
       "  </tbody>\n",
       "</table>\n",
       "</div>"
      ],
      "text/plain": [
       "          movie id      unknown       Action    Adventure    Animation  \\\n",
       "count  1681.000000  1681.000000  1681.000000  1681.000000  1681.000000   \n",
       "mean    841.841761     0.000595     0.149316     0.080309     0.024985   \n",
       "std     485.638077     0.024390     0.356506     0.271852     0.156126   \n",
       "min       1.000000     0.000000     0.000000     0.000000     0.000000   \n",
       "25%     422.000000     0.000000     0.000000     0.000000     0.000000   \n",
       "50%     842.000000     0.000000     0.000000     0.000000     0.000000   \n",
       "75%    1262.000000     0.000000     0.000000     0.000000     0.000000   \n",
       "max    1682.000000     1.000000     1.000000     1.000000     1.000000   \n",
       "\n",
       "         Childrens       Comedy        Crime  Documentary        Drama  \\\n",
       "count  1681.000000  1681.000000  1681.000000  1681.000000  1681.000000   \n",
       "mean      0.072576     0.300416     0.064842     0.029744     0.431291   \n",
       "std       0.259516     0.458576     0.246321     0.169931     0.495404   \n",
       "min       0.000000     0.000000     0.000000     0.000000     0.000000   \n",
       "25%       0.000000     0.000000     0.000000     0.000000     0.000000   \n",
       "50%       0.000000     0.000000     0.000000     0.000000     0.000000   \n",
       "75%       0.000000     1.000000     0.000000     0.000000     1.000000   \n",
       "max       1.000000     1.000000     1.000000     1.000000     1.000000   \n",
       "\n",
       "           Fantasy    Film-Noir       Horror      Musical      Mystery  \\\n",
       "count  1681.000000  1681.000000  1681.000000  1681.000000  1681.000000   \n",
       "mean      0.013087     0.014277     0.054729     0.033314     0.036288   \n",
       "std       0.113683     0.118667     0.227519     0.179507     0.187061   \n",
       "min       0.000000     0.000000     0.000000     0.000000     0.000000   \n",
       "25%       0.000000     0.000000     0.000000     0.000000     0.000000   \n",
       "50%       0.000000     0.000000     0.000000     0.000000     0.000000   \n",
       "75%       0.000000     0.000000     0.000000     0.000000     0.000000   \n",
       "max       1.000000     1.000000     1.000000     1.000000     1.000000   \n",
       "\n",
       "           Romance       Sci-Fi     Thriller          War      Western  \n",
       "count  1681.000000  1681.000000  1681.000000  1681.000000  1681.000000  \n",
       "mean      0.146936     0.060083     0.149316     0.042237     0.016062  \n",
       "std       0.354148     0.237712     0.356506     0.201189     0.125751  \n",
       "min       0.000000     0.000000     0.000000     0.000000     0.000000  \n",
       "25%       0.000000     0.000000     0.000000     0.000000     0.000000  \n",
       "50%       0.000000     0.000000     0.000000     0.000000     0.000000  \n",
       "75%       0.000000     0.000000     0.000000     0.000000     0.000000  \n",
       "max       1.000000     1.000000     1.000000     1.000000     1.000000  "
      ]
     },
     "execution_count": 117,
     "metadata": {},
     "output_type": "execute_result"
    },
    {
     "data": {
      "text/plain": [
       "movie id        False\n",
       "movie title     False\n",
       "release date    False\n",
       "unknown         False\n",
       "Action          False\n",
       "Adventure       False\n",
       "Animation       False\n",
       "Childrens       False\n",
       "Comedy          False\n",
       "Crime           False\n",
       "Documentary     False\n",
       "Drama           False\n",
       "Fantasy         False\n",
       "Film-Noir       False\n",
       "Horror          False\n",
       "Musical         False\n",
       "Mystery         False\n",
       "Romance         False\n",
       "Sci-Fi          False\n",
       "Thriller        False\n",
       "War             False\n",
       "Western         False\n",
       "release year    False\n",
       "dtype: bool"
      ]
     },
     "execution_count": 117,
     "metadata": {},
     "output_type": "execute_result"
    },
    {
     "name": "stdout",
     "output_type": "stream",
     "text": [
      "\n"
     ]
    }
   ],
   "source": [
    "print('This is Movie Detail data')\n",
    "print('-------------------------')\n",
    "mve_detail.head()\n",
    "mve_detail.info()\n",
    "print('The shape of this data is :',mve_detail.shape)\n",
    "mve_detail.describe()\n",
    "mve_detail.isnull().any()\n",
    "print()"
   ]
  },
  {
   "cell_type": "code",
   "execution_count": 125,
   "metadata": {},
   "outputs": [
    {
     "name": "stdout",
     "output_type": "stream",
     "text": [
      "This is User Detail data\n",
      "-------------------------\n"
     ]
    },
    {
     "data": {
      "text/html": [
       "<div>\n",
       "<style scoped>\n",
       "    .dataframe tbody tr th:only-of-type {\n",
       "        vertical-align: middle;\n",
       "    }\n",
       "\n",
       "    .dataframe tbody tr th {\n",
       "        vertical-align: top;\n",
       "    }\n",
       "\n",
       "    .dataframe thead th {\n",
       "        text-align: right;\n",
       "    }\n",
       "</style>\n",
       "<table border=\"1\" class=\"dataframe\">\n",
       "  <thead>\n",
       "    <tr style=\"text-align: right;\">\n",
       "      <th></th>\n",
       "      <th>user id</th>\n",
       "      <th>age</th>\n",
       "      <th>gender</th>\n",
       "      <th>occupation</th>\n",
       "      <th>zip code</th>\n",
       "    </tr>\n",
       "  </thead>\n",
       "  <tbody>\n",
       "    <tr>\n",
       "      <th>0</th>\n",
       "      <td>1</td>\n",
       "      <td>24</td>\n",
       "      <td>M</td>\n",
       "      <td>technician</td>\n",
       "      <td>85711</td>\n",
       "    </tr>\n",
       "    <tr>\n",
       "      <th>1</th>\n",
       "      <td>2</td>\n",
       "      <td>53</td>\n",
       "      <td>F</td>\n",
       "      <td>other</td>\n",
       "      <td>94043</td>\n",
       "    </tr>\n",
       "    <tr>\n",
       "      <th>2</th>\n",
       "      <td>3</td>\n",
       "      <td>23</td>\n",
       "      <td>M</td>\n",
       "      <td>writer</td>\n",
       "      <td>32067</td>\n",
       "    </tr>\n",
       "    <tr>\n",
       "      <th>3</th>\n",
       "      <td>4</td>\n",
       "      <td>24</td>\n",
       "      <td>M</td>\n",
       "      <td>technician</td>\n",
       "      <td>43537</td>\n",
       "    </tr>\n",
       "    <tr>\n",
       "      <th>4</th>\n",
       "      <td>5</td>\n",
       "      <td>33</td>\n",
       "      <td>F</td>\n",
       "      <td>other</td>\n",
       "      <td>15213</td>\n",
       "    </tr>\n",
       "  </tbody>\n",
       "</table>\n",
       "</div>"
      ],
      "text/plain": [
       "   user id  age gender  occupation zip code\n",
       "0        1   24      M  technician    85711\n",
       "1        2   53      F       other    94043\n",
       "2        3   23      M      writer    32067\n",
       "3        4   24      M  technician    43537\n",
       "4        5   33      F       other    15213"
      ]
     },
     "execution_count": 125,
     "metadata": {},
     "output_type": "execute_result"
    },
    {
     "name": "stdout",
     "output_type": "stream",
     "text": [
      "<class 'pandas.core.frame.DataFrame'>\n",
      "RangeIndex: 943 entries, 0 to 942\n",
      "Data columns (total 5 columns):\n",
      " #   Column      Non-Null Count  Dtype \n",
      "---  ------      --------------  ----- \n",
      " 0   user id     943 non-null    int64 \n",
      " 1   age         943 non-null    int64 \n",
      " 2   gender      943 non-null    object\n",
      " 3   occupation  943 non-null    object\n",
      " 4   zip code    943 non-null    object\n",
      "dtypes: int64(2), object(3)\n",
      "memory usage: 37.0+ KB\n",
      "The shape of this data is : (943, 5)\n"
     ]
    },
    {
     "data": {
      "text/html": [
       "<div>\n",
       "<style scoped>\n",
       "    .dataframe tbody tr th:only-of-type {\n",
       "        vertical-align: middle;\n",
       "    }\n",
       "\n",
       "    .dataframe tbody tr th {\n",
       "        vertical-align: top;\n",
       "    }\n",
       "\n",
       "    .dataframe thead th {\n",
       "        text-align: right;\n",
       "    }\n",
       "</style>\n",
       "<table border=\"1\" class=\"dataframe\">\n",
       "  <thead>\n",
       "    <tr style=\"text-align: right;\">\n",
       "      <th></th>\n",
       "      <th>user id</th>\n",
       "      <th>age</th>\n",
       "    </tr>\n",
       "  </thead>\n",
       "  <tbody>\n",
       "    <tr>\n",
       "      <th>count</th>\n",
       "      <td>943.000000</td>\n",
       "      <td>943.000000</td>\n",
       "    </tr>\n",
       "    <tr>\n",
       "      <th>mean</th>\n",
       "      <td>472.000000</td>\n",
       "      <td>34.051962</td>\n",
       "    </tr>\n",
       "    <tr>\n",
       "      <th>std</th>\n",
       "      <td>272.364951</td>\n",
       "      <td>12.192740</td>\n",
       "    </tr>\n",
       "    <tr>\n",
       "      <th>min</th>\n",
       "      <td>1.000000</td>\n",
       "      <td>7.000000</td>\n",
       "    </tr>\n",
       "    <tr>\n",
       "      <th>25%</th>\n",
       "      <td>236.500000</td>\n",
       "      <td>25.000000</td>\n",
       "    </tr>\n",
       "    <tr>\n",
       "      <th>50%</th>\n",
       "      <td>472.000000</td>\n",
       "      <td>31.000000</td>\n",
       "    </tr>\n",
       "    <tr>\n",
       "      <th>75%</th>\n",
       "      <td>707.500000</td>\n",
       "      <td>43.000000</td>\n",
       "    </tr>\n",
       "    <tr>\n",
       "      <th>max</th>\n",
       "      <td>943.000000</td>\n",
       "      <td>73.000000</td>\n",
       "    </tr>\n",
       "  </tbody>\n",
       "</table>\n",
       "</div>"
      ],
      "text/plain": [
       "          user id         age\n",
       "count  943.000000  943.000000\n",
       "mean   472.000000   34.051962\n",
       "std    272.364951   12.192740\n",
       "min      1.000000    7.000000\n",
       "25%    236.500000   25.000000\n",
       "50%    472.000000   31.000000\n",
       "75%    707.500000   43.000000\n",
       "max    943.000000   73.000000"
      ]
     },
     "execution_count": 125,
     "metadata": {},
     "output_type": "execute_result"
    },
    {
     "data": {
      "text/plain": [
       "user id       False\n",
       "age           False\n",
       "gender        False\n",
       "occupation    False\n",
       "zip code      False\n",
       "dtype: bool"
      ]
     },
     "execution_count": 125,
     "metadata": {},
     "output_type": "execute_result"
    }
   ],
   "source": [
    "print('This is User Detail data')\n",
    "print('-------------------------')\n",
    "usr_detail.head()\n",
    "usr_detail.info()\n",
    "print('The shape of this data is :',usr_detail.shape)\n",
    "usr_detail.describe()\n",
    "usr_detail.isnull().any()"
   ]
  },
  {
   "cell_type": "markdown",
   "metadata": {},
   "source": [
    "**Observations:**\n",
    "\n"
   ]
  },
  {
   "cell_type": "markdown",
   "metadata": {},
   "source": [
    "### 4. Find the number of movies per genre using the item data - 2.5 marks"
   ]
  },
  {
   "cell_type": "code",
   "execution_count": 126,
   "metadata": {},
   "outputs": [
    {
     "name": "stdout",
     "output_type": "stream",
     "text": [
      "unknown                                                         1\n",
      "Action                                                        251\n",
      "Adventure                                                     135\n",
      "Animation                                                      42\n",
      "Childrens                                                     122\n",
      "Comedy                                                        505\n",
      "Crime                                                         109\n",
      "Documentary                                                    50\n",
      "Drama                                                         725\n",
      "Fantasy                                                        22\n",
      "Film-Noir                                                      24\n",
      "Horror                                                         92\n",
      "Musical                                                        56\n",
      "Mystery                                                        61\n",
      "Romance                                                       247\n",
      "Sci-Fi                                                        101\n",
      "Thriller                                                      251\n",
      "War                                                            71\n",
      "Western                                                        27\n",
      "release year    1995199519951995199519951995199519951996199519...\n",
      "dtype: object\n"
     ]
    }
   ],
   "source": [
    "df = mve_detail.drop('movie id' , axis=1)\n",
    "df = df.drop('movie title' , axis=1)\n",
    "df = df.drop('release date' , axis=1)\n",
    "print(df.sum())\n",
    "df.sum().to_csv('Q4_output.csv',index=True)\n",
    "\n",
    "#output file :Q4_output.csv"
   ]
  },
  {
   "cell_type": "markdown",
   "metadata": {},
   "source": [
    "Insights:"
   ]
  },
  {
   "cell_type": "markdown",
   "metadata": {},
   "source": [
    "### 5. Drop the movie where the genre is unknown - 2.5 marks"
   ]
  },
  {
   "cell_type": "code",
   "execution_count": 140,
   "metadata": {},
   "outputs": [
    {
     "data": {
      "text/html": [
       "<div>\n",
       "<style scoped>\n",
       "    .dataframe tbody tr th:only-of-type {\n",
       "        vertical-align: middle;\n",
       "    }\n",
       "\n",
       "    .dataframe tbody tr th {\n",
       "        vertical-align: top;\n",
       "    }\n",
       "\n",
       "    .dataframe thead th {\n",
       "        text-align: right;\n",
       "    }\n",
       "</style>\n",
       "<table border=\"1\" class=\"dataframe\">\n",
       "  <thead>\n",
       "    <tr style=\"text-align: right;\">\n",
       "      <th></th>\n",
       "      <th>movie id</th>\n",
       "      <th>movie title</th>\n",
       "      <th>release date</th>\n",
       "      <th>unknown</th>\n",
       "      <th>Action</th>\n",
       "      <th>Adventure</th>\n",
       "      <th>Animation</th>\n",
       "      <th>Childrens</th>\n",
       "      <th>Comedy</th>\n",
       "      <th>Crime</th>\n",
       "      <th>...</th>\n",
       "      <th>Film-Noir</th>\n",
       "      <th>Horror</th>\n",
       "      <th>Musical</th>\n",
       "      <th>Mystery</th>\n",
       "      <th>Romance</th>\n",
       "      <th>Sci-Fi</th>\n",
       "      <th>Thriller</th>\n",
       "      <th>War</th>\n",
       "      <th>Western</th>\n",
       "      <th>release year</th>\n",
       "    </tr>\n",
       "  </thead>\n",
       "  <tbody>\n",
       "    <tr>\n",
       "      <th>1371</th>\n",
       "      <td>1373</td>\n",
       "      <td>Good Morning</td>\n",
       "      <td>4-Feb-1971</td>\n",
       "      <td>1</td>\n",
       "      <td>0</td>\n",
       "      <td>0</td>\n",
       "      <td>0</td>\n",
       "      <td>0</td>\n",
       "      <td>0</td>\n",
       "      <td>0</td>\n",
       "      <td>...</td>\n",
       "      <td>0</td>\n",
       "      <td>0</td>\n",
       "      <td>0</td>\n",
       "      <td>0</td>\n",
       "      <td>0</td>\n",
       "      <td>0</td>\n",
       "      <td>0</td>\n",
       "      <td>0</td>\n",
       "      <td>0</td>\n",
       "      <td>1971</td>\n",
       "    </tr>\n",
       "  </tbody>\n",
       "</table>\n",
       "<p>1 rows × 23 columns</p>\n",
       "</div>"
      ],
      "text/plain": [
       "      movie id    movie title release date  unknown  Action  Adventure  \\\n",
       "1371      1373  Good Morning    4-Feb-1971        1       0          0   \n",
       "\n",
       "      Animation  Childrens  Comedy  Crime  ...  Film-Noir  Horror  Musical  \\\n",
       "1371          0          0       0      0  ...          0       0        0   \n",
       "\n",
       "      Mystery  Romance  Sci-Fi  Thriller  War  Western  release year  \n",
       "1371        0        0       0         0    0        0          1971  \n",
       "\n",
       "[1 rows x 23 columns]"
      ]
     },
     "execution_count": 140,
     "metadata": {},
     "output_type": "execute_result"
    },
    {
     "data": {
      "text/html": [
       "<div>\n",
       "<style scoped>\n",
       "    .dataframe tbody tr th:only-of-type {\n",
       "        vertical-align: middle;\n",
       "    }\n",
       "\n",
       "    .dataframe tbody tr th {\n",
       "        vertical-align: top;\n",
       "    }\n",
       "\n",
       "    .dataframe thead th {\n",
       "        text-align: right;\n",
       "    }\n",
       "</style>\n",
       "<table border=\"1\" class=\"dataframe\">\n",
       "  <thead>\n",
       "    <tr style=\"text-align: right;\">\n",
       "      <th></th>\n",
       "      <th>movie id</th>\n",
       "      <th>movie title</th>\n",
       "      <th>release date</th>\n",
       "      <th>unknown</th>\n",
       "      <th>Action</th>\n",
       "      <th>Adventure</th>\n",
       "      <th>Animation</th>\n",
       "      <th>Childrens</th>\n",
       "      <th>Comedy</th>\n",
       "      <th>Crime</th>\n",
       "      <th>...</th>\n",
       "      <th>Film-Noir</th>\n",
       "      <th>Horror</th>\n",
       "      <th>Musical</th>\n",
       "      <th>Mystery</th>\n",
       "      <th>Romance</th>\n",
       "      <th>Sci-Fi</th>\n",
       "      <th>Thriller</th>\n",
       "      <th>War</th>\n",
       "      <th>Western</th>\n",
       "      <th>release year</th>\n",
       "    </tr>\n",
       "  </thead>\n",
       "  <tbody>\n",
       "  </tbody>\n",
       "</table>\n",
       "<p>0 rows × 23 columns</p>\n",
       "</div>"
      ],
      "text/plain": [
       "Empty DataFrame\n",
       "Columns: [movie id, movie title, release date, unknown, Action, Adventure, Animation, Childrens, Comedy, Crime, Documentary, Drama, Fantasy, Film-Noir, Horror, Musical, Mystery, Romance, Sci-Fi, Thriller, War, Western, release year]\n",
       "Index: []\n",
       "\n",
       "[0 rows x 23 columns]"
      ]
     },
     "execution_count": 140,
     "metadata": {},
     "output_type": "execute_result"
    },
    {
     "name": "stdout",
     "output_type": "stream",
     "text": [
      "      movie id                          movie title release date  unknown  \\\n",
      "0            1                           Toy Story   01-Jan-1995        0   \n",
      "1            2                           GoldenEye   01-Jan-1995        0   \n",
      "2            3                          Four Rooms   01-Jan-1995        0   \n",
      "3            4                          Get Shorty   01-Jan-1995        0   \n",
      "4            5                             Copycat   01-Jan-1995        0   \n",
      "...        ...                                  ...          ...      ...   \n",
      "1676      1678                          Mat' i syn   06-Feb-1998        0   \n",
      "1677      1679                           B. Monkey   06-Feb-1998        0   \n",
      "1678      1680                       Sliding Doors   01-Jan-1998        0   \n",
      "1679      1681                        You So Crazy   01-Jan-1994        0   \n",
      "1680      1682  Scream of Stone (Schrei aus Stein)   08-Mar-1996        0   \n",
      "\n",
      "      Action  Adventure  Animation  Childrens  Comedy  Crime  ...  Film-Noir  \\\n",
      "0          0          0          1          1       1      0  ...          0   \n",
      "1          1          1          0          0       0      0  ...          0   \n",
      "2          0          0          0          0       0      0  ...          0   \n",
      "3          1          0          0          0       1      0  ...          0   \n",
      "4          0          0          0          0       0      1  ...          0   \n",
      "...      ...        ...        ...        ...     ...    ...  ...        ...   \n",
      "1676       0          0          0          0       0      0  ...          0   \n",
      "1677       0          0          0          0       0      0  ...          0   \n",
      "1678       0          0          0          0       0      0  ...          0   \n",
      "1679       0          0          0          0       1      0  ...          0   \n",
      "1680       0          0          0          0       0      0  ...          0   \n",
      "\n",
      "      Horror  Musical  Mystery  Romance  Sci-Fi  Thriller  War  Western  \\\n",
      "0          0        0        0        0       0         0    0        0   \n",
      "1          0        0        0        0       0         1    0        0   \n",
      "2          0        0        0        0       0         1    0        0   \n",
      "3          0        0        0        0       0         0    0        0   \n",
      "4          0        0        0        0       0         1    0        0   \n",
      "...      ...      ...      ...      ...     ...       ...  ...      ...   \n",
      "1676       0        0        0        0       0         0    0        0   \n",
      "1677       0        0        0        1       0         1    0        0   \n",
      "1678       0        0        0        1       0         0    0        0   \n",
      "1679       0        0        0        0       0         0    0        0   \n",
      "1680       0        0        0        0       0         0    0        0   \n",
      "\n",
      "      release year  \n",
      "0             1995  \n",
      "1             1995  \n",
      "2             1995  \n",
      "3             1995  \n",
      "4             1995  \n",
      "...            ...  \n",
      "1676          1998  \n",
      "1677          1998  \n",
      "1678          1998  \n",
      "1679          1994  \n",
      "1680          1996  \n",
      "\n",
      "[1680 rows x 23 columns]\n"
     ]
    }
   ],
   "source": [
    "#Find movie where genre is unknown (there's only 1 according to Q4)\n",
    "mve_detail.loc[mve_detail['unknown'] == 1] \n",
    "\n",
    "#Drop movie by index\n",
    "mve_detail_new = mve_detail.drop(index=1371) \n",
    "\n",
    "#Test to see that the movie has been dropped\n",
    "mve_detail_new.loc[mve_detail_new['unknown']==1] \n",
    "\n",
    "#Test passed\n",
    "print(mve_detail_new)\n",
    "mve_detail_new.to_csv('Q5_output.csv',index=True)"
   ]
  },
  {
   "cell_type": "markdown",
   "metadata": {},
   "source": [
    "**Insights:**\n"
   ]
  },
  {
   "cell_type": "markdown",
   "metadata": {},
   "source": [
    "### 6. Find the movies that have more than one genre - 5 marks\n",
    "\n",
    "hint: use sum on the axis = 1\n",
    "\n",
    "Display movie name, number of genres for the movie in dataframe\n",
    "\n",
    "and also print(total number of movies which have more than one genres)"
   ]
  },
  {
   "cell_type": "code",
   "execution_count": 128,
   "metadata": {},
   "outputs": [
    {
     "name": "stdout",
     "output_type": "stream",
     "text": [
      "0               Toy Story \n",
      "1               GoldenEye \n",
      "3              Get Shorty \n",
      "4                 Copycat \n",
      "6          Twelve Monkeys \n",
      "               ...        \n",
      "1667    MURDER and murder \n",
      "1668              Tainted \n",
      "1671               Mirage \n",
      "1677            B. Monkey \n",
      "1678        Sliding Doors \n",
      "Name: movie title, Length: 849, dtype: object\n"
     ]
    }
   ],
   "source": [
    "tdf = pd.DataFrame({\"NumofCategories\":df.sum(axis=1)})\n",
    "mdf = pd.concat([mve_detail,tdf],axis=1,sort=False)\n",
    "print(mdf.query('NumofCategories > 1')['movie title'])\n",
    "mdf.query('NumofCategories > 1')['movie title'].to_csv('Q6_output.csv',index=True)\n",
    "#output file :Q6_output.csv"
   ]
  },
  {
   "cell_type": "markdown",
   "metadata": {},
   "source": [
    "**Insights:**\n",
    "\n"
   ]
  },
  {
   "cell_type": "markdown",
   "metadata": {},
   "source": [
    "### 7. Univariate plots of columns: 'rating', 'Age', 'release year', 'Gender' and 'Occupation' - 10 marks\n",
    "\n",
    "*HINT: Use distplot for age and countplot for release year, ratings, *\n",
    "\n",
    "*HINT: Please refer to the below snippet to understand how to get to release year from release date. You can use str.split() as depicted below or you could convert it to pandas datetime format and extract year (.dt.year)*"
   ]
  },
  {
   "cell_type": "code",
   "execution_count": 129,
   "metadata": {},
   "outputs": [
    {
     "name": "stdout",
     "output_type": "stream",
     "text": [
      "brown\n",
      "brown\n",
      "brown\n"
     ]
    }
   ],
   "source": [
    "a = 'My*cat*is*brown'\n",
    "print(a.split('*')[3])\n",
    "\n",
    "#similarly, the release year needs to be taken out from release date\n",
    "\n",
    "#also you can simply slice existing string to get the desired data, if we want to take out the colour of the cat\n",
    "\n",
    "print(a[10:])\n",
    "print(a[-5:])"
   ]
  },
  {
   "cell_type": "code",
   "execution_count": 130,
   "metadata": {},
   "outputs": [],
   "source": [
    "mve_detail['release year']=mve_detail['release date'].str.split('-').str[2]\n",
    "import warnings\n",
    "warnings.simplefilter(action='ignore', category=FutureWarning)"
   ]
  },
  {
   "cell_type": "code",
   "execution_count": 131,
   "metadata": {},
   "outputs": [
    {
     "data": {
      "image/png": "[encoded data removed]",
      "text/plain": [
       "<Figure size 432x288 with 1 Axes>"
      ]
     },
     "metadata": {
      "needs_background": "light"
     },
     "output_type": "display_data"
    }
   ],
   "source": [
    "#countplot for 'rating'\n",
    "sns.countplot(mve_rating['rating'])\n",
    "plt.show();"
   ]
  },
  {
   "cell_type": "code",
   "execution_count": 132,
   "metadata": {},
   "outputs": [
    {
     "data": {
      "text/plain": [
       "<seaborn.axisgrid.FacetGrid at 0x7fcaae7c5160>"
      ]
     },
     "execution_count": 132,
     "metadata": {},
     "output_type": "execute_result"
    },
    {
     "data": {
      "image/png": "[encoded data removed]",
      "text/plain": [
       "<Figure size 360x360 with 1 Axes>"
      ]
     },
     "metadata": {
      "needs_background": "light"
     },
     "output_type": "display_data"
    }
   ],
   "source": [
    "#distplot for 'age'\n",
    "sns.displot(usr_detail['age'])\n",
    "plt.show()"
   ]
  },
  {
   "cell_type": "code",
   "execution_count": 133,
   "metadata": {},
   "outputs": [
    {
     "data": {
      "text/plain": [
       "<AxesSubplot:xlabel='year'>"
      ]
     },
     "execution_count": 133,
     "metadata": {},
     "output_type": "execute_result"
    },
    {
     "data": {
      "image/png": "[encoded data removed]",
      "text/plain": [
       "<Figure size 432x288 with 1 Axes>"
      ]
     },
     "metadata": {
      "needs_background": "light"
     },
     "output_type": "display_data"
    }
   ],
   "source": [
    "#countplot for 'release year'\n",
    "df_1 = mve_detail_new\n",
    "df_1['year'] = mve_detail_new['release date'].str.split(\"-\").str[2]\n",
    "df_2 = df_1['year']\n",
    "sns.distplot(df_2, kde=False)"
   ]
  },
  {
   "cell_type": "code",
   "execution_count": 134,
   "metadata": {},
   "outputs": [
    {
     "data": {
      "text/plain": [
       "<AxesSubplot:xlabel='gender', ylabel='count'>"
      ]
     },
     "execution_count": 134,
     "metadata": {},
     "output_type": "execute_result"
    },
    {
     "data": {
      "image/png": "[encoded data removed]",
      "text/plain": [
       "<Figure size 432x288 with 1 Axes>"
      ]
     },
     "metadata": {
      "needs_background": "light"
     },
     "output_type": "display_data"
    }
   ],
   "source": [
    "#countplot for 'gender'\n",
    "sns.countplot(usr_detail['gender'])\n",
    "plt.show()"
   ]
  },
  {
   "cell_type": "code",
   "execution_count": 73,
   "metadata": {},
   "outputs": [
    {
     "data": {
      "text/plain": [
       "<AxesSubplot:xlabel='occupation', ylabel='count'>"
      ]
     },
     "execution_count": 73,
     "metadata": {},
     "output_type": "execute_result"
    },
    {
     "data": {
      "text/plain": [
       "(array([ 0,  1,  2,  3,  4,  5,  6,  7,  8,  9, 10, 11, 12, 13, 14, 15, 16,\n",
       "        17, 18, 19, 20]),\n",
       " [Text(0, 0, 'technician'),\n",
       "  Text(1, 0, 'other'),\n",
       "  Text(2, 0, 'writer'),\n",
       "  Text(3, 0, 'executive'),\n",
       "  Text(4, 0, 'administrator'),\n",
       "  Text(5, 0, 'student'),\n",
       "  Text(6, 0, 'lawyer'),\n",
       "  Text(7, 0, 'educator'),\n",
       "  Text(8, 0, 'scientist'),\n",
       "  Text(9, 0, 'entertainment'),\n",
       "  Text(10, 0, 'programmer'),\n",
       "  Text(11, 0, 'librarian'),\n",
       "  Text(12, 0, 'homemaker'),\n",
       "  Text(13, 0, 'artist'),\n",
       "  Text(14, 0, 'engineer'),\n",
       "  Text(15, 0, 'marketing'),\n",
       "  Text(16, 0, 'none'),\n",
       "  Text(17, 0, 'healthcare'),\n",
       "  Text(18, 0, 'retired'),\n",
       "  Text(19, 0, 'salesman'),\n",
       "  Text(20, 0, 'doctor')])"
      ]
     },
     "execution_count": 73,
     "metadata": {},
     "output_type": "execute_result"
    },
    {
     "data": {
      "image/png": "[encoded data removed]",
      "text/plain": [
       "<Figure size 432x288 with 1 Axes>"
      ]
     },
     "metadata": {
      "needs_background": "light"
     },
     "output_type": "display_data"
    }
   ],
   "source": [
    "#countplot for 'occupation'\n",
    "sns.countplot(usr_detail['occupation'])\n",
    "plt.xticks(rotation='vertical')\n",
    "plt.show()"
   ]
  },
  {
   "cell_type": "markdown",
   "metadata": {},
   "source": [
    "### 8. Visualize how popularity of genres has changed over the years - 10 marks\n",
    "\n",
    "Note that you need to use the **percent of number of releases in a year** as a parameter of popularity of a genre\n",
    "\n",
    "Hint 1: You need to reach to a data frame where the release year is the index and the genre is the column names (one cell shows the number of release in a year in one genre) or vice versa. (Drop unnecessary column if there are any)\n",
    "\n",
    "Hint 2: Find the total number of movies release in a year(use item dataset to get count of movies released in a particular year, store that value in a new column as 'total'). Now divide the value of each genre in that year by total to get percentage number of release in a particular year.\n",
    "`(df.div(df['total'], axis= 0) * 100)`\n",
    "\n",
    "Once that is achieved, you can either use univariate plots or can use the heatmap to visualise all the changes over the years \n",
    "in one go. \n",
    "\n",
    "Hint 3: Use groupby on the relevant column and use sum() on the same to find out the number of releases in a year/genre."
   ]
  },
  {
   "cell_type": "code",
   "execution_count": 135,
   "metadata": {},
   "outputs": [
    {
     "data": {
      "image/png": "[encoded data removed]",
      "text/plain": [
       "<Figure size 1080x1080 with 2 Axes>"
      ]
     },
     "metadata": {
      "needs_background": "light"
     },
     "output_type": "display_data"
    }
   ],
   "source": [
    "mve_genre_ovr_yr=mve_detail.groupby(['release year']).sum()\n",
    "mve_genre_ovr_yr=mve_genre_ovr_yr.drop(['movie id'],axis=1)\n",
    "fig, ax = plt.subplots(figsize=(15,15)) \n",
    "sns.heatmap(mve_genre_ovr_yr,cmap='plasma');"
   ]
  },
  {
   "cell_type": "markdown",
   "metadata": {},
   "source": [
    "**Insights:**\n",
    "\n"
   ]
  },
  {
   "cell_type": "markdown",
   "metadata": {},
   "source": [
    "### 9. Find the top 25 movies in terms of average ratings for movies that have been rated more than 100 times - 10 marks\n",
    "\n",
    "Hints : \n",
    "\n",
    "1. Find the count of ratings and average ratings for every movie.\n",
    "2. Slice the movies which have ratings more than 100.\n",
    "3. Sort values according to average rating such that movie which highest rating is on top.\n",
    "4. Select top 25 movies.\n",
    "5. You will have to use the .merge() function to get the movie titles.\n",
    "\n",
    "Note: This question will need you to research about groupby and apply your findings. You can find more on groupby on https://realpython.com/pandas-groupby/."
   ]
  },
  {
   "cell_type": "code",
   "execution_count": 136,
   "metadata": {},
   "outputs": [
    {
     "name": "stdout",
     "output_type": "stream",
     "text": [
      "Top 25 movies in terms of average ratings\n",
      "                                                      rating\n",
      "movie title                                                 \n",
      "Close Shave, A                                      4.491071\n",
      "Schindler's List                                    4.466443\n",
      "Wrong Trousers, The                                 4.466102\n",
      "Casablanca                                          4.456790\n",
      "Shawshank Redemption, The                           4.445230\n",
      "Rear Window                                         4.387560\n",
      "Usual Suspects, The                                 4.385768\n",
      "Star Wars                                           4.358491\n",
      "12 Angry Men                                        4.344000\n",
      "Citizen Kane                                        4.292929\n",
      "To Kill a Mockingbird                               4.292237\n",
      "One Flew Over the Cuckoo's Nest                     4.291667\n",
      "Silence of the Lambs, The                           4.289744\n",
      "North by Northwest                                  4.284916\n",
      "Godfather, The                                      4.283293\n",
      "Secrets & Lies                                      4.265432\n",
      "Good Will Hunting                                   4.262626\n",
      "Manchurian Candidate, The                           4.259542\n",
      "Dr. Strangelove or: How I Learned to Stop Worry...  4.252577\n",
      "Raiders of the Lost Ark                             4.252381\n",
      "Vertigo                                             4.251397\n",
      "Titanic                                             4.245714\n",
      "Lawrence of Arabia                                  4.231214\n",
      "Maltese Falcon, The                                 4.210145\n",
      "Empire Strikes Back, The                            4.204360\n"
     ]
    }
   ],
   "source": [
    "df_3 = mve_rating.drop(columns=['user id', 'timestamp'])\n",
    "df_4 = mve_detail_new.drop(columns=['year','release date','unknown','Action','Adventure','Animation','Childrens','Comedy','Crime','Documentary','Drama','Fantasy','Film-Noir','Horror','Musical','Mystery','Romance','Sci-Fi','Thriller','War','Western'])\n",
    "df_5 = pd.merge(df_3, df_4, left_on='movie id', right_on='movie id', how='left').drop('movie id', axis=1)\n",
    "\n",
    "#Find movies that have more than 100 ratings\n",
    "grouped = df_5.groupby('movie title')\n",
    "countofr = grouped.count()\n",
    "d_6 = countofr.loc[countofr['rating']>100]\n",
    "\n",
    "#Extract movie titles into a list\n",
    "my_list = d_6.index\n",
    "l = my_list.values.tolist()\n",
    "\n",
    "#Find the average rating of all movies\n",
    "df_7 = df_5.groupby('movie title')\n",
    "dfavg = df_7.mean()\n",
    "\n",
    "#Sort in descending order\n",
    "dfavg.sort_values(by=['rating'], inplace=True, ascending=False)\n",
    "\n",
    "#Filter out movies which have do not have more than 100 ratings\n",
    "Filter_df  = dfavg[dfavg.index.isin(l)]\n",
    "\n",
    "#Print the top 25 according to average ratings \n",
    "print('Top 25 movies in terms of average ratings')\n",
    "print(Filter_df.iloc[:25])"
   ]
  },
  {
   "cell_type": "markdown",
   "metadata": {},
   "source": [
    "### 10. Check for the validity of the below statements with respect to the data provided - 10 marks\n",
    "\n",
    "* Men watch more drama than women\n",
    "* Women watch more Sci-Fi than men\n",
    "* Men watch more Romance than women\n",
    "\n",
    "**compare the percentages**\n",
    "\n",
    "**Please pay attention to what should be the denominator while calculating percentages**"
   ]
  },
  {
   "cell_type": "markdown",
   "metadata": {},
   "source": [
    "1. Merge all the datasets\n",
    "\n",
    "2. There is no need to conduct statistical tests around this. Just **compare the percentages** and comment on the validity of the above statements.\n",
    "\n",
    "3. you might want ot use the .sum(), .div() function here.\n",
    "\n",
    "4. Use number of ratings to validate the numbers. For example, if out of 4000 ratings received by women, 3000 are for drama, we will assume that 75% of the women watch drama."
   ]
  },
  {
   "cell_type": "code",
   "execution_count": 137,
   "metadata": {},
   "outputs": [
    {
     "data": {
      "text/plain": [
       "gender\n",
       "F    0.427694\n",
       "M    0.389035\n",
       "dtype: float64"
      ]
     },
     "execution_count": 137,
     "metadata": {},
     "output_type": "execute_result"
    },
    {
     "data": {
      "text/plain": [
       "gender\n",
       "F    0.102145\n",
       "M    0.136035\n",
       "dtype: float64"
      ]
     },
     "execution_count": 137,
     "metadata": {},
     "output_type": "execute_result"
    },
    {
     "data": {
      "text/plain": [
       "gender\n",
       "F    0.227601\n",
       "M    0.183198\n",
       "dtype: float64"
      ]
     },
     "execution_count": 137,
     "metadata": {},
     "output_type": "execute_result"
    }
   ],
   "source": [
    "master_merged=pd.merge(mve_rating[['user id','movie id','rating']],usr_detail[['user id','age','gender']],on='user id')\n",
    "master_merged=pd.merge(master_merged,mve_detail,on='movie id')\n",
    "master_merged_count=master_merged.groupby(['gender']).rating.count()\n",
    "master_merged=master_merged.groupby(['gender']).sum()\n",
    "master_merged['Drama'].div(master_merged_count)\n",
    "master_merged['Sci-Fi'].div(master_merged_count)\n",
    "master_merged['Romance'].div(master_merged_count)"
   ]
  },
  {
   "cell_type": "markdown",
   "metadata": {},
   "source": [
    "# Conclusion:\n",
    "    \n",
    "Statement-1: \"Men watch more drama than women\" is False\n",
    "[Since ~43% women watch Drama as compared to ~39% of men]\n",
    "\n",
    "Statement-2: \"Women watch more Sci-Fi than men\" is False\n",
    "[Since ~10% women watch Sci-Fi as compared to ~14% of men]\n",
    "\n",
    "Statement-3: \"Men watch more Romance than women\" is False\n",
    "[Since ~23% women watch Romance as compared to ~18% of men]"
   ]
  },
  {
   "cell_type": "code",
   "execution_count": null,
   "metadata": {},
   "outputs": [],
   "source": []
  }
 ],
 "metadata": {
  "kernelspec": {
   "display_name": "Python 3",
   "language": "python",
   "name": "python3"
  },
  "language_info": {
   "codemirror_mode": {
    "name": "ipython",
    "version": 3
   },
   "file_extension": ".py",
   "mimetype": "text/x-python",
   "name": "python",
   "nbconvert_exporter": "python",
   "pygments_lexer": "ipython3",
   "version": "3.8.5"
  }
 },
 "nbformat": 4,
 "nbformat_minor": 2
}
